{
 "cells": [
  {
   "cell_type": "markdown",
   "metadata": {},
   "source": [
    "# Projeto dedicado a Tokenização\n",
    "## Project for Tokenization\n",
    "\n",
    "Neste projeto será implementado um tokenizador fazendo uso do algoritmo BPE para fins de estudo.\n",
    "\n",
    "That project will implement a tokenizer using the BPE algorithm for study purposes."
   ]
  }
 ],
 "metadata": {
  "language_info": {
   "name": "python"
  }
 },
 "nbformat": 4,
 "nbformat_minor": 2
}
