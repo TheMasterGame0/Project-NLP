{
 "cells": [
  {
   "cell_type": "markdown",
   "metadata": {},
   "source": [
    "## GPT2\n",
    "\n",
    "O objetivo dessa atividade será pegar os pesos de um modelo pre-treinado do GPT2."
   ]
  },
  {
   "cell_type": "code",
   "execution_count": null,
   "metadata": {},
   "outputs": [
    {
     "name": "stderr",
     "output_type": "stream",
     "text": [
      "2025-02-19 20:36:41.706747: E external/local_xla/xla/stream_executor/cuda/cuda_fft.cc:477] Unable to register cuFFT factory: Attempting to register factory for plugin cuFFT when one has already been registered\n",
      "WARNING: All log messages before absl::InitializeLog() is called are written to STDERR\n",
      "E0000 00:00:1740008201.717694   17821 cuda_dnn.cc:8310] Unable to register cuDNN factory: Attempting to register factory for plugin cuDNN when one has already been registered\n",
      "E0000 00:00:1740008201.720914   17821 cuda_blas.cc:1418] Unable to register cuBLAS factory: Attempting to register factory for plugin cuBLAS when one has already been registered\n",
      "2025-02-19 20:36:41.733167: I tensorflow/core/platform/cpu_feature_guard.cc:210] This TensorFlow binary is optimized to use available CPU instructions in performance-critical operations.\n",
      "To enable the following instructions: AVX2 FMA, in other operations, rebuild TensorFlow with the appropriate compiler flags.\n"
     ]
    },
    {
     "name": "stdout",
     "output_type": "stream",
     "text": [
      "File already exists and is up-to-date: gpt2/124M/checkpoint\n",
      "File already exists and is up-to-date: gpt2/124M/encoder.json\n",
      "File already exists and is up-to-date: gpt2/124M/hparams.json\n",
      "File already exists and is up-to-date: gpt2/124M/model.ckpt.data-00000-of-00001\n",
      "File already exists and is up-to-date: gpt2/124M/model.ckpt.index\n",
      "File already exists and is up-to-date: gpt2/124M/model.ckpt.meta\n",
      "File already exists and is up-to-date: gpt2/124M/vocab.bpe\n"
     ]
    }
   ],
   "source": [
    "from gpt_download import download_and_load_gpt2\n",
    "import transfer_weights as tw\n",
    "import gpt_functions   # Initialize gpt model \n",
    "\n",
    "settings, params = download_and_load_gpt2(model_size=\"124M\", models_dir=\"gpt2\")\n",
    "\n",
    "# Set parameters in the gpt model\n",
    "tw.load_weights_into_gpt(gpt_functions.gpt, params)\n",
    "\n",
    "# Define gpt to use an specific device (GPU or CPU) \n",
    "gpt_functions.gpt.to(tw.device)"
   ]
  },
  {
   "cell_type": "markdown",
   "metadata": {},
   "source": [
    "Com os dados necessários baixados e o modelo configurado com os dados pré-treinados é possível utilizá-los para gerar texto a partir de uma entrada específica.\n",
    "\n",
    "Ao rodar o trecho a seguir será pedido o texto de entrada que será completado pelo GPT2. \n",
    "\n",
    "O texto usado no exemplo foi: \"I am giving a good example of text\""
   ]
  },
  {
   "cell_type": "code",
   "execution_count": 11,
   "metadata": {},
   "outputs": [
    {
     "name": "stdout",
     "output_type": "stream",
     "text": [
      "Generated Text:\n",
      " I am giving a good example of text-based programming. I am using a text editor called Vim. I am using it to write a program that I can use\n"
     ]
    }
   ],
   "source": [
    "texto_entrada = input(\"Digite seu texto: \")\n",
    "\n",
    "generated_ids = gpt_functions.generate_text_simple(\n",
    "        model=gpt_functions.gpt,\n",
    "        idx=gpt_functions.text_to_token_ids( texto_entrada ,gpt_functions.tokenizer).to(tw.device),\n",
    "        max_new_tokens=25, # Modify this parameter to increase text size!\n",
    "        context_size=gpt_functions.GPT_CONFIG_124M[\"context_length\"]\n",
    "    )\n",
    "\n",
    "print(\"Generated Text:\\n\", gpt_functions.token_ids_to_text(generated_ids, gpt_functions.tokenizer))"
   ]
  }
 ],
 "metadata": {
  "kernelspec": {
   "display_name": "sklearn-env",
   "language": "python",
   "name": "python3"
  },
  "language_info": {
   "codemirror_mode": {
    "name": "ipython",
    "version": 3
   },
   "file_extension": ".py",
   "mimetype": "text/x-python",
   "name": "python",
   "nbconvert_exporter": "python",
   "pygments_lexer": "ipython3",
   "version": "3.11.2"
  }
 },
 "nbformat": 4,
 "nbformat_minor": 2
}
